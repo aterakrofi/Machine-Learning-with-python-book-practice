{
  "nbformat": 4,
  "nbformat_minor": 0,
  "metadata": {
    "colab": {
      "name": "Machine Learning Chapter 1",
      "provenance": [],
      "include_colab_link": true
    },
    "kernelspec": {
      "name": "python3",
      "display_name": "Python 3"
    }
  },
  "cells": [
    {
      "cell_type": "markdown",
      "metadata": {
        "id": "view-in-github",
        "colab_type": "text"
      },
      "source": [
        "<a href=\"https://colab.research.google.com/github/aterakrofi/Machine-Learning-with-python-book-practice/blob/master/Machine_Learning_Chapter_1.ipynb\" target=\"_parent\"><img src=\"https://colab.research.google.com/assets/colab-badge.svg\" alt=\"Open In Colab\"/></a>"
      ]
    },
    {
      "cell_type": "code",
      "metadata": {
        "id": "Fc-cAIbl3JSa",
        "colab_type": "code",
        "outputId": "a49fff2c-1207-4ce8-d78c-a506537e3b38",
        "colab": {
          "base_uri": "https://localhost:8080/",
          "height": 102
        }
      },
      "source": [
        "#scipy\n",
        "import numpy\n",
        "print('scipy:{}'.format(scipy.__version__))\n",
        "#numpy\n",
        "import numpy\n",
        "print('numpy:{}'.format(numpy.__version__))\n",
        "#matplotlib\n",
        "import matplotlib\n",
        "print('matplotlib:{}'.format(matplotlib.__version__))\n",
        "#pandas\n",
        "import pandas\n",
        "print('pandas:{}'.format(matplotlib.__version__))\n",
        "#scikit-learn\n",
        "import sklearn\n",
        "print('sklean:{}'.format(sklearn.__version__))\n"
      ],
      "execution_count": 6,
      "outputs": [
        {
          "output_type": "stream",
          "text": [
            "scipy:1.4.1\n",
            "numpy:1.18.5\n",
            "matplotlib:3.2.1\n",
            "pandas:3.2.1\n",
            "sklean:0.22.2.post1\n"
          ],
          "name": "stdout"
        }
      ]
    },
    {
      "cell_type": "code",
      "metadata": {
        "id": "QdUr1n5sampm",
        "colab_type": "code",
        "colab": {}
      },
      "source": [
        "#Strings\n",
        "data = 'hello world'\n",
        "print(data[0])"
      ],
      "execution_count": 0,
      "outputs": []
    }
  ]
}